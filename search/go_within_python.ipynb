{
 "cells": [
  {
   "cell_type": "markdown",
   "id": "ca8d8141",
   "metadata": {},
   "source": [
    "# Go Within Python\n",
    "\n",
    "Making sure I understand how to extract the results of the go multi cluster experiment into python to output the full results."
   ]
  },
  {
   "cell_type": "code",
   "execution_count": 1,
   "id": "241d328c",
   "metadata": {},
   "outputs": [],
   "source": [
    "import subprocess\n",
    "import asyncio"
   ]
  },
  {
   "cell_type": "code",
   "execution_count": 2,
   "id": "ea35a15e",
   "metadata": {},
   "outputs": [],
   "source": [
    "test_query = \"example search text\"\n",
    "\n",
    "cmd = [\n",
    "    \"go\",\n",
    "    \"run\",\n",
    "    \".\",\n",
    "    \"-search_config\",\n",
    "    \"../configs/test_search.json\",\n",
    "    \"multi-cluster-experiment\",\n",
    "    test_query,\n",
    "]"
   ]
  },
  {
   "cell_type": "code",
   "execution_count": 3,
   "id": "fc314012",
   "metadata": {},
   "outputs": [],
   "source": [
    "process = subprocess.run(cmd, cwd=\"./\", check=True, capture_output=True)"
   ]
  },
  {
   "cell_type": "code",
   "execution_count": 12,
   "id": "a9b9ca97",
   "metadata": {},
   "outputs": [],
   "source": [
    "out = process.stdout.decode(\"utf-8\").splitlines()[-1]"
   ]
  },
  {
   "cell_type": "code",
   "execution_count": 13,
   "id": "533d609c",
   "metadata": {},
   "outputs": [],
   "source": [
    "import json\n",
    "\n",
    "results = json.loads(out.splitlines()[-1])"
   ]
  },
  {
   "cell_type": "code",
   "execution_count": 14,
   "id": "b08cc2e6",
   "metadata": {},
   "outputs": [
    {
     "name": "stdout",
     "output_type": "stream",
     "text": [
      "{'cluster_rank': 1, 'cluster_index': 24, 'results': [{'score': 21765, 'url': 'D802805'}, {'score': 20752, 'url': 'D3347722'}, {'score': 20325, 'url': 'D3087368'}, {'score': 19755, 'url': 'D3416613'}, {'score': 19468, 'url': 'D3118914'}], 'perf_up': 32.38997268676758, 'perf_down': 1.2493066787719727}\n",
      "{'cluster_rank': 2, 'cluster_index': 12, 'results': [{'score': 24428, 'url': 'D709754'}, {'score': 21887, 'url': 'D1592000'}, {'score': 21586, 'url': 'D2222332'}, {'score': 21580, 'url': 'D360538'}, {'score': 19759, 'url': 'D1805557'}], 'perf_up': 32.389970779418945, 'perf_down': 1.249307632446289}\n",
      "{'cluster_rank': 3, 'cluster_index': 15, 'results': [{'score': 35049, 'url': 'D3339009'}, {'score': 11616, 'url': 'D2338213'}, {'score': 11616, 'url': 'D803785'}, {'score': 11616, 'url': 'D3360795'}, {'score': 11616, 'url': 'D1191864'}], 'perf_up': 32.38997173309326, 'perf_down': 1.2493114471435547}\n",
      "{'cluster_rank': 4, 'cluster_index': 5, 'results': [{'score': 19290, 'url': 'D1265153'}, {'score': 17556, 'url': 'D3345046'}, {'score': 17245, 'url': 'D760065'}, {'score': 17119, 'url': 'D2316368'}, {'score': 16933, 'url': 'D2129423'}], 'perf_up': 32.38996982574463, 'perf_down': 1.2493467330932617}\n"
     ]
    }
   ],
   "source": [
    "for cluster_res in results[\"all_results\"]:\n",
    "    print(cluster_res)"
   ]
  },
  {
   "cell_type": "code",
   "execution_count": 15,
   "id": "cbab1c22",
   "metadata": {},
   "outputs": [],
   "source": [
    "query_id = \"01\"\n",
    "res_dict = {\"query_id\": query_id}\n",
    "for cluster_res in results[\"all_results\"]:\n",
    "    res_dict[f\"cluster_{cluster_res['cluster_rank']}_res\"] = cluster_res[\"results\"]\n",
    "    res_dict[f\"cluster_{cluster_res['cluster_rank']}_total_comm\"] = (\n",
    "        cluster_res[\"perf_up\"] + cluster_res[\"perf_down\"]\n",
    "    )"
   ]
  },
  {
   "cell_type": "code",
   "execution_count": 16,
   "id": "c4c6f317",
   "metadata": {},
   "outputs": [
    {
     "data": {
      "text/plain": [
       "{'query_id': '01',\n",
       " 'cluster_1_res': [{'score': 21765, 'url': 'D802805'},\n",
       "  {'score': 20752, 'url': 'D3347722'},\n",
       "  {'score': 20325, 'url': 'D3087368'},\n",
       "  {'score': 19755, 'url': 'D3416613'},\n",
       "  {'score': 19468, 'url': 'D3118914'}],\n",
       " 'cluster_1_total_comm': 33.63927936553955,\n",
       " 'cluster_2_res': [{'score': 24428, 'url': 'D709754'},\n",
       "  {'score': 21887, 'url': 'D1592000'},\n",
       "  {'score': 21586, 'url': 'D2222332'},\n",
       "  {'score': 21580, 'url': 'D360538'},\n",
       "  {'score': 19759, 'url': 'D1805557'}],\n",
       " 'cluster_2_total_comm': 33.639278411865234,\n",
       " 'cluster_3_res': [{'score': 35049, 'url': 'D3339009'},\n",
       "  {'score': 11616, 'url': 'D2338213'},\n",
       "  {'score': 11616, 'url': 'D803785'},\n",
       "  {'score': 11616, 'url': 'D3360795'},\n",
       "  {'score': 11616, 'url': 'D1191864'}],\n",
       " 'cluster_3_total_comm': 33.639283180236816,\n",
       " 'cluster_4_res': [{'score': 19290, 'url': 'D1265153'},\n",
       "  {'score': 17556, 'url': 'D3345046'},\n",
       "  {'score': 17245, 'url': 'D760065'},\n",
       "  {'score': 17119, 'url': 'D2316368'},\n",
       "  {'score': 16933, 'url': 'D2129423'}],\n",
       " 'cluster_4_total_comm': 33.63931655883789}"
      ]
     },
     "execution_count": 16,
     "metadata": {},
     "output_type": "execute_result"
    }
   ],
   "source": [
    "res_dict"
   ]
  },
  {
   "cell_type": "code",
   "execution_count": 95,
   "id": "e3562468",
   "metadata": {},
   "outputs": [],
   "source": [
    "def parse_go_output(output, query_id):\n",
    "    \"\"\"Parse the output from the Go program and return a structured dictionary.\"\"\"\n",
    "\n",
    "    results = json.loads(output.splitlines()[-1])\n",
    "    structured_results = {\"query_id\": query_id}\n",
    "    for cluster_res in results[\"all_results\"]:\n",
    "        structured_results[f\"cluster_{cluster_res['cluster_rank']}_res\"] = cluster_res[\n",
    "            \"results\"\n",
    "        ]\n",
    "        structured_results[f\"cluster_{cluster_res['cluster_rank']}_total_comm\"] = (\n",
    "            cluster_res[\"perf_up\"] + cluster_res[\"perf_down\"]\n",
    "        )\n",
    "    return structured_results"
   ]
  },
  {
   "cell_type": "code",
   "execution_count": 96,
   "id": "a36f12ac",
   "metadata": {},
   "outputs": [
    {
     "data": {
      "text/plain": [
       "{'query_id': '01',\n",
       " 'cluster_1_res': [{'score': 21765, 'url': 'D802805'},\n",
       "  {'score': 20752, 'url': 'D3347722'},\n",
       "  {'score': 20325, 'url': 'D3087368'},\n",
       "  {'score': 19755, 'url': 'D3416613'},\n",
       "  {'score': 19468, 'url': 'D3118914'}],\n",
       " 'cluster_1_total_comm': 33.639320373535156,\n",
       " 'cluster_2_res': [{'score': 24428, 'url': 'D709754'},\n",
       "  {'score': 21887, 'url': 'D1592000'},\n",
       "  {'score': 21586, 'url': 'D2222332'},\n",
       "  {'score': 21580, 'url': 'D360538'},\n",
       "  {'score': 19759, 'url': 'D1805557'}],\n",
       " 'cluster_2_total_comm': 33.639235496520996,\n",
       " 'cluster_3_res': [{'score': 35049, 'url': 'D3339009'},\n",
       "  {'score': 11616, 'url': 'D2338213'},\n",
       "  {'score': 11616, 'url': 'D803785'},\n",
       "  {'score': 11616, 'url': 'D3360795'},\n",
       "  {'score': 11616, 'url': 'D1191864'}],\n",
       " 'cluster_3_total_comm': 33.63926410675049,\n",
       " 'cluster_4_res': [{'score': 19290, 'url': 'D1265153'},\n",
       "  {'score': 17556, 'url': 'D3345046'},\n",
       "  {'score': 17245, 'url': 'D760065'},\n",
       "  {'score': 17119, 'url': 'D2316368'},\n",
       "  {'score': 16933, 'url': 'D2129423'}],\n",
       " 'cluster_4_total_comm': 33.63931846618652}"
      ]
     },
     "execution_count": 96,
     "metadata": {},
     "output_type": "execute_result"
    }
   ],
   "source": [
    "parse_go_output(out, \"01\")"
   ]
  },
  {
   "cell_type": "code",
   "execution_count": 120,
   "id": "cc8ffb3d",
   "metadata": {},
   "outputs": [],
   "source": [
    "import pandas as pd\n",
    "\n",
    "cluster_seach_num = 4\n",
    "test_df = pd.DataFrame(\n",
    "    columns=[\"query_id\"]\n",
    "    + [f\"cluster_{i+1}_res\" for i in range(cluster_seach_num)]\n",
    "    + [f\"cluster_{i+1}_total_comm\" for i in range(cluster_seach_num)]\n",
    ")"
   ]
  },
  {
   "cell_type": "code",
   "execution_count": 121,
   "id": "47455d87",
   "metadata": {},
   "outputs": [
    {
     "data": {
      "application/vnd.microsoft.datawrangler.viewer.v0+json": {
       "columns": [
        {
         "name": "index",
         "rawType": "int64",
         "type": "integer"
        },
        {
         "name": "query_id",
         "rawType": "object",
         "type": "string"
        },
        {
         "name": "cluster_1_res",
         "rawType": "object",
         "type": "unknown"
        },
        {
         "name": "cluster_2_res",
         "rawType": "object",
         "type": "unknown"
        },
        {
         "name": "cluster_3_res",
         "rawType": "object",
         "type": "unknown"
        },
        {
         "name": "cluster_4_res",
         "rawType": "object",
         "type": "unknown"
        },
        {
         "name": "cluster_1_total_comm",
         "rawType": "float64",
         "type": "float"
        },
        {
         "name": "cluster_2_total_comm",
         "rawType": "float64",
         "type": "float"
        },
        {
         "name": "cluster_3_total_comm",
         "rawType": "float64",
         "type": "float"
        },
        {
         "name": "cluster_4_total_comm",
         "rawType": "float64",
         "type": "float"
        }
       ],
       "ref": "71e0b158-732f-4f31-9de4-01bb1811286d",
       "rows": [
        [
         "0",
         "01",
         "{'score': 21765, 'url': 'D802805'}",
         "{'score': 24428, 'url': 'D709754'}",
         "{'score': 35049, 'url': 'D3339009'}",
         "{'score': 19290, 'url': 'D1265153'}",
         "33.639320373535156",
         "33.639235496520996",
         "33.63926410675049",
         "33.63931846618652"
        ],
        [
         "1",
         "01",
         "{'score': 20752, 'url': 'D3347722'}",
         "{'score': 21887, 'url': 'D1592000'}",
         "{'score': 11616, 'url': 'D2338213'}",
         "{'score': 17556, 'url': 'D3345046'}",
         "33.639320373535156",
         "33.639235496520996",
         "33.63926410675049",
         "33.63931846618652"
        ],
        [
         "2",
         "01",
         "{'score': 20325, 'url': 'D3087368'}",
         "{'score': 21586, 'url': 'D2222332'}",
         "{'score': 11616, 'url': 'D803785'}",
         "{'score': 17245, 'url': 'D760065'}",
         "33.639320373535156",
         "33.639235496520996",
         "33.63926410675049",
         "33.63931846618652"
        ],
        [
         "3",
         "01",
         "{'score': 19755, 'url': 'D3416613'}",
         "{'score': 21580, 'url': 'D360538'}",
         "{'score': 11616, 'url': 'D3360795'}",
         "{'score': 17119, 'url': 'D2316368'}",
         "33.639320373535156",
         "33.639235496520996",
         "33.63926410675049",
         "33.63931846618652"
        ],
        [
         "4",
         "01",
         "{'score': 19468, 'url': 'D3118914'}",
         "{'score': 19759, 'url': 'D1805557'}",
         "{'score': 11616, 'url': 'D1191864'}",
         "{'score': 16933, 'url': 'D2129423'}",
         "33.639320373535156",
         "33.639235496520996",
         "33.63926410675049",
         "33.63931846618652"
        ]
       ],
       "shape": {
        "columns": 9,
        "rows": 5
       }
      },
      "text/html": [
       "<div>\n",
       "<style scoped>\n",
       "    .dataframe tbody tr th:only-of-type {\n",
       "        vertical-align: middle;\n",
       "    }\n",
       "\n",
       "    .dataframe tbody tr th {\n",
       "        vertical-align: top;\n",
       "    }\n",
       "\n",
       "    .dataframe thead th {\n",
       "        text-align: right;\n",
       "    }\n",
       "</style>\n",
       "<table border=\"1\" class=\"dataframe\">\n",
       "  <thead>\n",
       "    <tr style=\"text-align: right;\">\n",
       "      <th></th>\n",
       "      <th>query_id</th>\n",
       "      <th>cluster_1_res</th>\n",
       "      <th>cluster_2_res</th>\n",
       "      <th>cluster_3_res</th>\n",
       "      <th>cluster_4_res</th>\n",
       "      <th>cluster_1_total_comm</th>\n",
       "      <th>cluster_2_total_comm</th>\n",
       "      <th>cluster_3_total_comm</th>\n",
       "      <th>cluster_4_total_comm</th>\n",
       "    </tr>\n",
       "  </thead>\n",
       "  <tbody>\n",
       "    <tr>\n",
       "      <th>0</th>\n",
       "      <td>01</td>\n",
       "      <td>{'score': 21765, 'url': 'D802805'}</td>\n",
       "      <td>{'score': 24428, 'url': 'D709754'}</td>\n",
       "      <td>{'score': 35049, 'url': 'D3339009'}</td>\n",
       "      <td>{'score': 19290, 'url': 'D1265153'}</td>\n",
       "      <td>33.63932</td>\n",
       "      <td>33.639235</td>\n",
       "      <td>33.639264</td>\n",
       "      <td>33.639318</td>\n",
       "    </tr>\n",
       "    <tr>\n",
       "      <th>1</th>\n",
       "      <td>01</td>\n",
       "      <td>{'score': 20752, 'url': 'D3347722'}</td>\n",
       "      <td>{'score': 21887, 'url': 'D1592000'}</td>\n",
       "      <td>{'score': 11616, 'url': 'D2338213'}</td>\n",
       "      <td>{'score': 17556, 'url': 'D3345046'}</td>\n",
       "      <td>33.63932</td>\n",
       "      <td>33.639235</td>\n",
       "      <td>33.639264</td>\n",
       "      <td>33.639318</td>\n",
       "    </tr>\n",
       "    <tr>\n",
       "      <th>2</th>\n",
       "      <td>01</td>\n",
       "      <td>{'score': 20325, 'url': 'D3087368'}</td>\n",
       "      <td>{'score': 21586, 'url': 'D2222332'}</td>\n",
       "      <td>{'score': 11616, 'url': 'D803785'}</td>\n",
       "      <td>{'score': 17245, 'url': 'D760065'}</td>\n",
       "      <td>33.63932</td>\n",
       "      <td>33.639235</td>\n",
       "      <td>33.639264</td>\n",
       "      <td>33.639318</td>\n",
       "    </tr>\n",
       "    <tr>\n",
       "      <th>3</th>\n",
       "      <td>01</td>\n",
       "      <td>{'score': 19755, 'url': 'D3416613'}</td>\n",
       "      <td>{'score': 21580, 'url': 'D360538'}</td>\n",
       "      <td>{'score': 11616, 'url': 'D3360795'}</td>\n",
       "      <td>{'score': 17119, 'url': 'D2316368'}</td>\n",
       "      <td>33.63932</td>\n",
       "      <td>33.639235</td>\n",
       "      <td>33.639264</td>\n",
       "      <td>33.639318</td>\n",
       "    </tr>\n",
       "    <tr>\n",
       "      <th>4</th>\n",
       "      <td>01</td>\n",
       "      <td>{'score': 19468, 'url': 'D3118914'}</td>\n",
       "      <td>{'score': 19759, 'url': 'D1805557'}</td>\n",
       "      <td>{'score': 11616, 'url': 'D1191864'}</td>\n",
       "      <td>{'score': 16933, 'url': 'D2129423'}</td>\n",
       "      <td>33.63932</td>\n",
       "      <td>33.639235</td>\n",
       "      <td>33.639264</td>\n",
       "      <td>33.639318</td>\n",
       "    </tr>\n",
       "  </tbody>\n",
       "</table>\n",
       "</div>"
      ],
      "text/plain": [
       "  query_id                        cluster_1_res  \\\n",
       "0       01   {'score': 21765, 'url': 'D802805'}   \n",
       "1       01  {'score': 20752, 'url': 'D3347722'}   \n",
       "2       01  {'score': 20325, 'url': 'D3087368'}   \n",
       "3       01  {'score': 19755, 'url': 'D3416613'}   \n",
       "4       01  {'score': 19468, 'url': 'D3118914'}   \n",
       "\n",
       "                         cluster_2_res                        cluster_3_res  \\\n",
       "0   {'score': 24428, 'url': 'D709754'}  {'score': 35049, 'url': 'D3339009'}   \n",
       "1  {'score': 21887, 'url': 'D1592000'}  {'score': 11616, 'url': 'D2338213'}   \n",
       "2  {'score': 21586, 'url': 'D2222332'}   {'score': 11616, 'url': 'D803785'}   \n",
       "3   {'score': 21580, 'url': 'D360538'}  {'score': 11616, 'url': 'D3360795'}   \n",
       "4  {'score': 19759, 'url': 'D1805557'}  {'score': 11616, 'url': 'D1191864'}   \n",
       "\n",
       "                         cluster_4_res  cluster_1_total_comm  \\\n",
       "0  {'score': 19290, 'url': 'D1265153'}              33.63932   \n",
       "1  {'score': 17556, 'url': 'D3345046'}              33.63932   \n",
       "2   {'score': 17245, 'url': 'D760065'}              33.63932   \n",
       "3  {'score': 17119, 'url': 'D2316368'}              33.63932   \n",
       "4  {'score': 16933, 'url': 'D2129423'}              33.63932   \n",
       "\n",
       "   cluster_2_total_comm  cluster_3_total_comm  cluster_4_total_comm  \n",
       "0             33.639235             33.639264             33.639318  \n",
       "1             33.639235             33.639264             33.639318  \n",
       "2             33.639235             33.639264             33.639318  \n",
       "3             33.639235             33.639264             33.639318  \n",
       "4             33.639235             33.639264             33.639318  "
      ]
     },
     "execution_count": 121,
     "metadata": {},
     "output_type": "execute_result"
    }
   ],
   "source": [
    "test_df = pd.concat([test_df, pd.DataFrame(parse_go_output(out, \"01\"))])\n",
    "test_df"
   ]
  },
  {
   "cell_type": "code",
   "execution_count": 122,
   "id": "159f8e17",
   "metadata": {},
   "outputs": [
    {
     "data": {
      "application/vnd.microsoft.datawrangler.viewer.v0+json": {
       "columns": [
        {
         "name": "index",
         "rawType": "int64",
         "type": "integer"
        },
        {
         "name": "query_id",
         "rawType": "object",
         "type": "string"
        },
        {
         "name": "cluster_1_res",
         "rawType": "object",
         "type": "unknown"
        },
        {
         "name": "cluster_2_res",
         "rawType": "object",
         "type": "unknown"
        },
        {
         "name": "cluster_3_res",
         "rawType": "object",
         "type": "unknown"
        },
        {
         "name": "cluster_4_res",
         "rawType": "object",
         "type": "unknown"
        },
        {
         "name": "cluster_1_total_comm",
         "rawType": "float64",
         "type": "float"
        },
        {
         "name": "cluster_2_total_comm",
         "rawType": "float64",
         "type": "float"
        },
        {
         "name": "cluster_3_total_comm",
         "rawType": "float64",
         "type": "float"
        },
        {
         "name": "cluster_4_total_comm",
         "rawType": "float64",
         "type": "float"
        }
       ],
       "ref": "aede7bc7-e8bf-4f2d-984f-e7b34e9158e8",
       "rows": [
        [
         "0",
         "01",
         "{'score': 21765, 'url': 'D802805'}",
         "{'score': 24428, 'url': 'D709754'}",
         "{'score': 35049, 'url': 'D3339009'}",
         "{'score': 19290, 'url': 'D1265153'}",
         "33.639320373535156",
         "33.639235496520996",
         "33.63926410675049",
         "33.63931846618652"
        ],
        [
         "1",
         "01",
         "{'score': 20752, 'url': 'D3347722'}",
         "{'score': 21887, 'url': 'D1592000'}",
         "{'score': 11616, 'url': 'D2338213'}",
         "{'score': 17556, 'url': 'D3345046'}",
         "33.639320373535156",
         "33.639235496520996",
         "33.63926410675049",
         "33.63931846618652"
        ],
        [
         "2",
         "01",
         "{'score': 20325, 'url': 'D3087368'}",
         "{'score': 21586, 'url': 'D2222332'}",
         "{'score': 11616, 'url': 'D803785'}",
         "{'score': 17245, 'url': 'D760065'}",
         "33.639320373535156",
         "33.639235496520996",
         "33.63926410675049",
         "33.63931846618652"
        ],
        [
         "3",
         "01",
         "{'score': 19755, 'url': 'D3416613'}",
         "{'score': 21580, 'url': 'D360538'}",
         "{'score': 11616, 'url': 'D3360795'}",
         "{'score': 17119, 'url': 'D2316368'}",
         "33.639320373535156",
         "33.639235496520996",
         "33.63926410675049",
         "33.63931846618652"
        ],
        [
         "4",
         "01",
         "{'score': 19468, 'url': 'D3118914'}",
         "{'score': 19759, 'url': 'D1805557'}",
         "{'score': 11616, 'url': 'D1191864'}",
         "{'score': 16933, 'url': 'D2129423'}",
         "33.639320373535156",
         "33.639235496520996",
         "33.63926410675049",
         "33.63931846618652"
        ],
        [
         "0",
         "02",
         "{'score': 21765, 'url': 'D802805'}",
         "{'score': 24428, 'url': 'D709754'}",
         "{'score': 35049, 'url': 'D3339009'}",
         "{'score': 19290, 'url': 'D1265153'}",
         "33.639320373535156",
         "33.639235496520996",
         "33.63926410675049",
         "33.63931846618652"
        ],
        [
         "1",
         "02",
         "{'score': 20752, 'url': 'D3347722'}",
         "{'score': 21887, 'url': 'D1592000'}",
         "{'score': 11616, 'url': 'D2338213'}",
         "{'score': 17556, 'url': 'D3345046'}",
         "33.639320373535156",
         "33.639235496520996",
         "33.63926410675049",
         "33.63931846618652"
        ],
        [
         "2",
         "02",
         "{'score': 20325, 'url': 'D3087368'}",
         "{'score': 21586, 'url': 'D2222332'}",
         "{'score': 11616, 'url': 'D803785'}",
         "{'score': 17245, 'url': 'D760065'}",
         "33.639320373535156",
         "33.639235496520996",
         "33.63926410675049",
         "33.63931846618652"
        ],
        [
         "3",
         "02",
         "{'score': 19755, 'url': 'D3416613'}",
         "{'score': 21580, 'url': 'D360538'}",
         "{'score': 11616, 'url': 'D3360795'}",
         "{'score': 17119, 'url': 'D2316368'}",
         "33.639320373535156",
         "33.639235496520996",
         "33.63926410675049",
         "33.63931846618652"
        ],
        [
         "4",
         "02",
         "{'score': 19468, 'url': 'D3118914'}",
         "{'score': 19759, 'url': 'D1805557'}",
         "{'score': 11616, 'url': 'D1191864'}",
         "{'score': 16933, 'url': 'D2129423'}",
         "33.639320373535156",
         "33.639235496520996",
         "33.63926410675049",
         "33.63931846618652"
        ]
       ],
       "shape": {
        "columns": 9,
        "rows": 10
       }
      },
      "text/html": [
       "<div>\n",
       "<style scoped>\n",
       "    .dataframe tbody tr th:only-of-type {\n",
       "        vertical-align: middle;\n",
       "    }\n",
       "\n",
       "    .dataframe tbody tr th {\n",
       "        vertical-align: top;\n",
       "    }\n",
       "\n",
       "    .dataframe thead th {\n",
       "        text-align: right;\n",
       "    }\n",
       "</style>\n",
       "<table border=\"1\" class=\"dataframe\">\n",
       "  <thead>\n",
       "    <tr style=\"text-align: right;\">\n",
       "      <th></th>\n",
       "      <th>query_id</th>\n",
       "      <th>cluster_1_res</th>\n",
       "      <th>cluster_2_res</th>\n",
       "      <th>cluster_3_res</th>\n",
       "      <th>cluster_4_res</th>\n",
       "      <th>cluster_1_total_comm</th>\n",
       "      <th>cluster_2_total_comm</th>\n",
       "      <th>cluster_3_total_comm</th>\n",
       "      <th>cluster_4_total_comm</th>\n",
       "    </tr>\n",
       "  </thead>\n",
       "  <tbody>\n",
       "    <tr>\n",
       "      <th>0</th>\n",
       "      <td>01</td>\n",
       "      <td>{'score': 21765, 'url': 'D802805'}</td>\n",
       "      <td>{'score': 24428, 'url': 'D709754'}</td>\n",
       "      <td>{'score': 35049, 'url': 'D3339009'}</td>\n",
       "      <td>{'score': 19290, 'url': 'D1265153'}</td>\n",
       "      <td>33.63932</td>\n",
       "      <td>33.639235</td>\n",
       "      <td>33.639264</td>\n",
       "      <td>33.639318</td>\n",
       "    </tr>\n",
       "    <tr>\n",
       "      <th>1</th>\n",
       "      <td>01</td>\n",
       "      <td>{'score': 20752, 'url': 'D3347722'}</td>\n",
       "      <td>{'score': 21887, 'url': 'D1592000'}</td>\n",
       "      <td>{'score': 11616, 'url': 'D2338213'}</td>\n",
       "      <td>{'score': 17556, 'url': 'D3345046'}</td>\n",
       "      <td>33.63932</td>\n",
       "      <td>33.639235</td>\n",
       "      <td>33.639264</td>\n",
       "      <td>33.639318</td>\n",
       "    </tr>\n",
       "    <tr>\n",
       "      <th>2</th>\n",
       "      <td>01</td>\n",
       "      <td>{'score': 20325, 'url': 'D3087368'}</td>\n",
       "      <td>{'score': 21586, 'url': 'D2222332'}</td>\n",
       "      <td>{'score': 11616, 'url': 'D803785'}</td>\n",
       "      <td>{'score': 17245, 'url': 'D760065'}</td>\n",
       "      <td>33.63932</td>\n",
       "      <td>33.639235</td>\n",
       "      <td>33.639264</td>\n",
       "      <td>33.639318</td>\n",
       "    </tr>\n",
       "    <tr>\n",
       "      <th>3</th>\n",
       "      <td>01</td>\n",
       "      <td>{'score': 19755, 'url': 'D3416613'}</td>\n",
       "      <td>{'score': 21580, 'url': 'D360538'}</td>\n",
       "      <td>{'score': 11616, 'url': 'D3360795'}</td>\n",
       "      <td>{'score': 17119, 'url': 'D2316368'}</td>\n",
       "      <td>33.63932</td>\n",
       "      <td>33.639235</td>\n",
       "      <td>33.639264</td>\n",
       "      <td>33.639318</td>\n",
       "    </tr>\n",
       "    <tr>\n",
       "      <th>4</th>\n",
       "      <td>01</td>\n",
       "      <td>{'score': 19468, 'url': 'D3118914'}</td>\n",
       "      <td>{'score': 19759, 'url': 'D1805557'}</td>\n",
       "      <td>{'score': 11616, 'url': 'D1191864'}</td>\n",
       "      <td>{'score': 16933, 'url': 'D2129423'}</td>\n",
       "      <td>33.63932</td>\n",
       "      <td>33.639235</td>\n",
       "      <td>33.639264</td>\n",
       "      <td>33.639318</td>\n",
       "    </tr>\n",
       "    <tr>\n",
       "      <th>0</th>\n",
       "      <td>02</td>\n",
       "      <td>{'score': 21765, 'url': 'D802805'}</td>\n",
       "      <td>{'score': 24428, 'url': 'D709754'}</td>\n",
       "      <td>{'score': 35049, 'url': 'D3339009'}</td>\n",
       "      <td>{'score': 19290, 'url': 'D1265153'}</td>\n",
       "      <td>33.63932</td>\n",
       "      <td>33.639235</td>\n",
       "      <td>33.639264</td>\n",
       "      <td>33.639318</td>\n",
       "    </tr>\n",
       "    <tr>\n",
       "      <th>1</th>\n",
       "      <td>02</td>\n",
       "      <td>{'score': 20752, 'url': 'D3347722'}</td>\n",
       "      <td>{'score': 21887, 'url': 'D1592000'}</td>\n",
       "      <td>{'score': 11616, 'url': 'D2338213'}</td>\n",
       "      <td>{'score': 17556, 'url': 'D3345046'}</td>\n",
       "      <td>33.63932</td>\n",
       "      <td>33.639235</td>\n",
       "      <td>33.639264</td>\n",
       "      <td>33.639318</td>\n",
       "    </tr>\n",
       "    <tr>\n",
       "      <th>2</th>\n",
       "      <td>02</td>\n",
       "      <td>{'score': 20325, 'url': 'D3087368'}</td>\n",
       "      <td>{'score': 21586, 'url': 'D2222332'}</td>\n",
       "      <td>{'score': 11616, 'url': 'D803785'}</td>\n",
       "      <td>{'score': 17245, 'url': 'D760065'}</td>\n",
       "      <td>33.63932</td>\n",
       "      <td>33.639235</td>\n",
       "      <td>33.639264</td>\n",
       "      <td>33.639318</td>\n",
       "    </tr>\n",
       "    <tr>\n",
       "      <th>3</th>\n",
       "      <td>02</td>\n",
       "      <td>{'score': 19755, 'url': 'D3416613'}</td>\n",
       "      <td>{'score': 21580, 'url': 'D360538'}</td>\n",
       "      <td>{'score': 11616, 'url': 'D3360795'}</td>\n",
       "      <td>{'score': 17119, 'url': 'D2316368'}</td>\n",
       "      <td>33.63932</td>\n",
       "      <td>33.639235</td>\n",
       "      <td>33.639264</td>\n",
       "      <td>33.639318</td>\n",
       "    </tr>\n",
       "    <tr>\n",
       "      <th>4</th>\n",
       "      <td>02</td>\n",
       "      <td>{'score': 19468, 'url': 'D3118914'}</td>\n",
       "      <td>{'score': 19759, 'url': 'D1805557'}</td>\n",
       "      <td>{'score': 11616, 'url': 'D1191864'}</td>\n",
       "      <td>{'score': 16933, 'url': 'D2129423'}</td>\n",
       "      <td>33.63932</td>\n",
       "      <td>33.639235</td>\n",
       "      <td>33.639264</td>\n",
       "      <td>33.639318</td>\n",
       "    </tr>\n",
       "  </tbody>\n",
       "</table>\n",
       "</div>"
      ],
      "text/plain": [
       "  query_id                        cluster_1_res  \\\n",
       "0       01   {'score': 21765, 'url': 'D802805'}   \n",
       "1       01  {'score': 20752, 'url': 'D3347722'}   \n",
       "2       01  {'score': 20325, 'url': 'D3087368'}   \n",
       "3       01  {'score': 19755, 'url': 'D3416613'}   \n",
       "4       01  {'score': 19468, 'url': 'D3118914'}   \n",
       "0       02   {'score': 21765, 'url': 'D802805'}   \n",
       "1       02  {'score': 20752, 'url': 'D3347722'}   \n",
       "2       02  {'score': 20325, 'url': 'D3087368'}   \n",
       "3       02  {'score': 19755, 'url': 'D3416613'}   \n",
       "4       02  {'score': 19468, 'url': 'D3118914'}   \n",
       "\n",
       "                         cluster_2_res                        cluster_3_res  \\\n",
       "0   {'score': 24428, 'url': 'D709754'}  {'score': 35049, 'url': 'D3339009'}   \n",
       "1  {'score': 21887, 'url': 'D1592000'}  {'score': 11616, 'url': 'D2338213'}   \n",
       "2  {'score': 21586, 'url': 'D2222332'}   {'score': 11616, 'url': 'D803785'}   \n",
       "3   {'score': 21580, 'url': 'D360538'}  {'score': 11616, 'url': 'D3360795'}   \n",
       "4  {'score': 19759, 'url': 'D1805557'}  {'score': 11616, 'url': 'D1191864'}   \n",
       "0   {'score': 24428, 'url': 'D709754'}  {'score': 35049, 'url': 'D3339009'}   \n",
       "1  {'score': 21887, 'url': 'D1592000'}  {'score': 11616, 'url': 'D2338213'}   \n",
       "2  {'score': 21586, 'url': 'D2222332'}   {'score': 11616, 'url': 'D803785'}   \n",
       "3   {'score': 21580, 'url': 'D360538'}  {'score': 11616, 'url': 'D3360795'}   \n",
       "4  {'score': 19759, 'url': 'D1805557'}  {'score': 11616, 'url': 'D1191864'}   \n",
       "\n",
       "                         cluster_4_res  cluster_1_total_comm  \\\n",
       "0  {'score': 19290, 'url': 'D1265153'}              33.63932   \n",
       "1  {'score': 17556, 'url': 'D3345046'}              33.63932   \n",
       "2   {'score': 17245, 'url': 'D760065'}              33.63932   \n",
       "3  {'score': 17119, 'url': 'D2316368'}              33.63932   \n",
       "4  {'score': 16933, 'url': 'D2129423'}              33.63932   \n",
       "0  {'score': 19290, 'url': 'D1265153'}              33.63932   \n",
       "1  {'score': 17556, 'url': 'D3345046'}              33.63932   \n",
       "2   {'score': 17245, 'url': 'D760065'}              33.63932   \n",
       "3  {'score': 17119, 'url': 'D2316368'}              33.63932   \n",
       "4  {'score': 16933, 'url': 'D2129423'}              33.63932   \n",
       "\n",
       "   cluster_2_total_comm  cluster_3_total_comm  cluster_4_total_comm  \n",
       "0             33.639235             33.639264             33.639318  \n",
       "1             33.639235             33.639264             33.639318  \n",
       "2             33.639235             33.639264             33.639318  \n",
       "3             33.639235             33.639264             33.639318  \n",
       "4             33.639235             33.639264             33.639318  \n",
       "0             33.639235             33.639264             33.639318  \n",
       "1             33.639235             33.639264             33.639318  \n",
       "2             33.639235             33.639264             33.639318  \n",
       "3             33.639235             33.639264             33.639318  \n",
       "4             33.639235             33.639264             33.639318  "
      ]
     },
     "execution_count": 122,
     "metadata": {},
     "output_type": "execute_result"
    }
   ],
   "source": [
    "test_df = pd.concat([test_df, pd.DataFrame(parse_go_output(out, \"02\"))])\n",
    "test_df"
   ]
  },
  {
   "cell_type": "code",
   "execution_count": 123,
   "id": "f8bc03dd",
   "metadata": {},
   "outputs": [],
   "source": [
    "import ir_datasets\n",
    "\n",
    "dataset = ir_datasets.load(\"msmarco-passage/dev/small\")"
   ]
  },
  {
   "cell_type": "code",
   "execution_count": 126,
   "id": "ab09d278",
   "metadata": {},
   "outputs": [
    {
     "name": "stderr",
     "output_type": "stream",
     "text": [
      "[INFO] Please confirm you agree to the MSMARCO data usage agreement found at <http://www.msmarco.org/dataset.aspx>\n",
      "[INFO] If you have a local copy of https://msmarco.z22.web.core.windows.net/msmarcoranking/collectionandqueries.tar.gz, you can symlink it here to avoid downloading it again: /Users/edable-heath/.ir_datasets/downloads/31644046b18952c1386cd4564ba2ae69\n",
      "[INFO] [starting] https://msmarco.z22.web.core.windows.net/msmarcoranking/collectionandqueries.tar.gz\n",
      "[INFO] [finished] https://msmarco.z22.web.core.windows.net/msmarcoranking/collectionandqueries.tar.gz: [12:12] [1.06GB] [1.44MB/s]\n",
      "                                                                                                                \r"
     ]
    },
    {
     "data": {
      "text/plain": [
       "GenericQuery(query_id='1048585', text=\"what is paula deen's brother\")"
      ]
     },
     "execution_count": 126,
     "metadata": {},
     "output_type": "execute_result"
    }
   ],
   "source": [
    "next(iter(dataset.queries_iter()))"
   ]
  },
  {
   "cell_type": "code",
   "execution_count": 129,
   "id": "76f14286",
   "metadata": {},
   "outputs": [
    {
     "data": {
      "text/plain": [
       "{'7187158': 1}"
      ]
     },
     "execution_count": 129,
     "metadata": {},
     "output_type": "execute_result"
    }
   ],
   "source": [
    "dataset.qrels_dict().get(\"1048585\")"
   ]
  },
  {
   "cell_type": "code",
   "execution_count": 130,
   "id": "169b510b",
   "metadata": {},
   "outputs": [],
   "source": [
    "qlist = list(dataset.queries_iter())"
   ]
  },
  {
   "cell_type": "code",
   "execution_count": 134,
   "id": "a22e25bb",
   "metadata": {},
   "outputs": [
    {
     "data": {
      "text/plain": [
       "\"what is paula deen's brother\""
      ]
     },
     "execution_count": 134,
     "metadata": {},
     "output_type": "execute_result"
    }
   ],
   "source": [
    "qlist[0][1]"
   ]
  },
  {
   "cell_type": "code",
   "execution_count": 135,
   "id": "0efeddb3",
   "metadata": {},
   "outputs": [
    {
     "data": {
      "text/plain": [
       "'1048585'"
      ]
     },
     "execution_count": 135,
     "metadata": {},
     "output_type": "execute_result"
    }
   ],
   "source": [
    "qlist[0][0]"
   ]
  },
  {
   "cell_type": "code",
   "execution_count": null,
   "id": "8288e934",
   "metadata": {},
   "outputs": [],
   "source": []
  }
 ],
 "metadata": {
  "kernelspec": {
   "display_name": ".env (3.11.4)",
   "language": "python",
   "name": "python3"
  },
  "language_info": {
   "codemirror_mode": {
    "name": "ipython",
    "version": 3
   },
   "file_extension": ".py",
   "mimetype": "text/x-python",
   "name": "python",
   "nbconvert_exporter": "python",
   "pygments_lexer": "ipython3",
   "version": "3.11.4"
  }
 },
 "nbformat": 4,
 "nbformat_minor": 5
}
