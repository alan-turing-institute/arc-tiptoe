{
 "cells": [
  {
   "cell_type": "markdown",
   "id": "52078831",
   "metadata": {},
   "source": [
    "# Check the urls\n",
    "\n",
    "Sense checking that the MSMARCO search URLs make sense"
   ]
  },
  {
   "cell_type": "code",
   "execution_count": null,
   "id": "d36493ca",
   "metadata": {},
   "outputs": [],
   "source": [
    "# Import IR Datasets and load msmarco-document/dev\n",
    "import ir_datasets\n",
    "\n",
    "dataset = ir_datasets.load(\"msmarco-document/dev\")"
   ]
  },
  {
   "cell_type": "code",
   "execution_count": 1,
   "id": "1d63f7f6",
   "metadata": {},
   "outputs": [],
   "source": [
    "# set the test output here\n",
    "test_output = \"D10252102) [score  32009] D2011380\\n3) [score  31504] D896741\\n4) [score  30963] D2405898\\n5) [score  30825] D1869287\\n6) [score  30644] D3101886\\n7) [score  30234] D377830\\n8) [score  30234] D435996\\n9) [score  29801] D1235412\\n10) [score  29654] D744546\""
   ]
  },
  {
   "cell_type": "code",
   "execution_count": null,
   "id": "7194087a",
   "metadata": {},
   "outputs": [],
   "source": [
    "# Extract the document IDs from the test output\n",
    "test_urls = [test_out.split(\" \")[-1] for test_out in test_output.split(\"\\n\")]"
   ]
  },
  {
   "cell_type": "code",
   "execution_count": 40,
   "id": "b1a85f35",
   "metadata": {},
   "outputs": [],
   "source": [
    "# pull out specific docs\n",
    "titles = []\n",
    "for doc in dataset.docs_store().get_many(test_urls):\n",
    "    titles.append(dataset.docs_store().get_many(test_urls)[doc].title)"
   ]
  },
  {
   "cell_type": "code",
   "execution_count": 41,
   "id": "433f5b06",
   "metadata": {},
   "outputs": [
    {
     "data": {
      "text/plain": [
       "['Clostridium botulinum',\n",
       " 'botulism',\n",
       " 'botulinum toxin',\n",
       " 'botulism',\n",
       " 'botulinum']"
      ]
     },
     "execution_count": 41,
     "metadata": {},
     "output_type": "execute_result"
    }
   ],
   "source": [
    "titles"
   ]
  }
 ],
 "metadata": {
  "kernelspec": {
   "display_name": ".env (3.11.4)",
   "language": "python",
   "name": "python3"
  },
  "language_info": {
   "codemirror_mode": {
    "name": "ipython",
    "version": 3
   },
   "file_extension": ".py",
   "mimetype": "text/x-python",
   "name": "python",
   "nbconvert_exporter": "python",
   "pygments_lexer": "ipython3",
   "version": "3.11.4"
  }
 },
 "nbformat": 4,
 "nbformat_minor": 5
}
